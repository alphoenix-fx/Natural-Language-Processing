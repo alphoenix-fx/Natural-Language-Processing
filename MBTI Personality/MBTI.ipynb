{
  "nbformat": 4,
  "nbformat_minor": 0,
  "metadata": {
    "colab": {
      "name": "kernelT1x.ipynb",
      "version": "0.3.2",
      "provenance": [],
      "include_colab_link": true
    },
    "language_info": {
      "codemirror_mode": {
        "name": "ipython",
        "version": 3
      },
      "file_extension": ".py",
      "mimetype": "text/x-python",
      "name": "python",
      "nbconvert_exporter": "python",
      "pygments_lexer": "ipython3",
      "version": "3.6.4"
    },
    "kernelspec": {
      "name": "python3",
      "display_name": "Python 3"
    },
    "accelerator": "GPU"
  },
  "cells": [
    {
      "cell_type": "markdown",
      "metadata": {
        "id": "view-in-github",
        "colab_type": "text"
      },
      "source": [
        "<a href=\"https://colab.research.google.com/github/alphoenixbiz/Natural-Language-Processing/blob/master/MBTI%20Personality/MBTI.ipynb\" target=\"_parent\"><img src=\"https://colab.research.google.com/assets/colab-badge.svg\" alt=\"Open In Colab\"/></a>"
      ]
    },
    {
      "cell_type": "code",
      "metadata": {
        "_cell_guid": "b1076dfc-b9ad-4769-8c92-a6c4dae69d19",
        "_uuid": "8f2839f25d086af736a60e9eeb907d3b93b6e0e5",
        "trusted": true,
        "id": "Ux0ogfmxBUaz",
        "colab_type": "code",
        "colab": {}
      },
      "source": [
        "# This Python 3 environment comes with many helpful analytics libraries installed\n",
        "# It is defined by the kaggle/python docker image: https://github.com/kaggle/docker-python\n",
        "# For example, here's several helpful packages to load in \n",
        "\n",
        "import numpy as np # linear algebra\n",
        "import pandas as pd # data processing, CSV file I/O (e.g. pd.read_csv)\n",
        "import seaborn as sns\n",
        "import matplotlib.pyplot as plt\n",
        "import re\n",
        "import nltk\n",
        "from sklearn.metrics import accuracy_score\n",
        "from sklearn.linear_model import LogisticRegressionCV\n",
        "from sklearn.multiclass import OneVsRestClassifier\n",
        "from sklearn.feature_extraction.text import TfidfVectorizer\n",
        "from sklearn.feature_extraction.text import CountVectorizer\n",
        "from sklearn import metrics\n",
        "from sklearn.metrics import classification_report\n",
        "\n",
        "# Input data files are available in the \"../input/\" directory.\n",
        "# For example, running this (by clicking run or pressing Shift+Enter) will list the files in the input directory\n",
        "\n",
        "\n",
        "# Any results you write to the current directory are saved as output."
      ],
      "execution_count": 0,
      "outputs": []
    },
    {
      "cell_type": "code",
      "metadata": {
        "id": "YJeKB5goBkT9",
        "colab_type": "code",
        "outputId": "f29f988b-ad99-430b-b3aa-f24a8bfaf2fd",
        "colab": {
          "base_uri": "https://localhost:8080/",
          "height": 122
        }
      },
      "source": [
        "from google.colab import drive \n",
        "drive.mount('/content/gdrive')"
      ],
      "execution_count": 2,
      "outputs": [
        {
          "output_type": "stream",
          "text": [
            "Go to this URL in a browser: https://accounts.google.com/o/oauth2/auth?client_id=947318989803-6bn6qk8qdgf4n4g3pfee6491hc0brc4i.apps.googleusercontent.com&redirect_uri=urn%3Aietf%3Awg%3Aoauth%3A2.0%3Aoob&scope=email%20https%3A%2F%2Fwww.googleapis.com%2Fauth%2Fdocs.test%20https%3A%2F%2Fwww.googleapis.com%2Fauth%2Fdrive%20https%3A%2F%2Fwww.googleapis.com%2Fauth%2Fdrive.photos.readonly%20https%3A%2F%2Fwww.googleapis.com%2Fauth%2Fpeopleapi.readonly&response_type=code\n",
            "\n",
            "Enter your authorization code:\n",
            "··········\n",
            "Mounted at /content/gdrive\n"
          ],
          "name": "stdout"
        }
      ]
    },
    {
      "cell_type": "code",
      "metadata": {
        "_cell_guid": "79c7e3d0-c299-4dcb-8224-4455121ee9b0",
        "_uuid": "d629ff2d2480ee46fbb7e2d37f6b5fab8052498a",
        "trusted": true,
        "id": "UkXs_Z93BUa4",
        "colab_type": "code",
        "colab": {}
      },
      "source": [
        "train = pd.read_csv('gdrive/My Drive/Colab Notebooks/Kaggle/edsa-mbti/train.csv')\n",
        "test = pd.read_csv('gdrive/My Drive/Colab Notebooks/Kaggle/edsa-mbti/test.csv')"
      ],
      "execution_count": 0,
      "outputs": []
    },
    {
      "cell_type": "code",
      "metadata": {
        "trusted": true,
        "id": "7O9s3Fk3BUa-",
        "colab_type": "code",
        "outputId": "114b3d7e-2a5c-4fc6-9bad-12c1b5db7266",
        "colab": {
          "base_uri": "https://localhost:8080/",
          "height": 204
        }
      },
      "source": [
        "train.head()"
      ],
      "execution_count": 4,
      "outputs": [
        {
          "output_type": "execute_result",
          "data": {
            "text/html": [
              "<div>\n",
              "<style scoped>\n",
              "    .dataframe tbody tr th:only-of-type {\n",
              "        vertical-align: middle;\n",
              "    }\n",
              "\n",
              "    .dataframe tbody tr th {\n",
              "        vertical-align: top;\n",
              "    }\n",
              "\n",
              "    .dataframe thead th {\n",
              "        text-align: right;\n",
              "    }\n",
              "</style>\n",
              "<table border=\"1\" class=\"dataframe\">\n",
              "  <thead>\n",
              "    <tr style=\"text-align: right;\">\n",
              "      <th></th>\n",
              "      <th>type</th>\n",
              "      <th>posts</th>\n",
              "    </tr>\n",
              "  </thead>\n",
              "  <tbody>\n",
              "    <tr>\n",
              "      <th>0</th>\n",
              "      <td>INFJ</td>\n",
              "      <td>'http://www.youtube.com/watch?v=qsXHcwe3krw|||...</td>\n",
              "    </tr>\n",
              "    <tr>\n",
              "      <th>1</th>\n",
              "      <td>ENTP</td>\n",
              "      <td>'I'm finding the lack of me in these posts ver...</td>\n",
              "    </tr>\n",
              "    <tr>\n",
              "      <th>2</th>\n",
              "      <td>INTP</td>\n",
              "      <td>'Good one  _____   https://www.youtube.com/wat...</td>\n",
              "    </tr>\n",
              "    <tr>\n",
              "      <th>3</th>\n",
              "      <td>INTJ</td>\n",
              "      <td>'Dear INTP,   I enjoyed our conversation the o...</td>\n",
              "    </tr>\n",
              "    <tr>\n",
              "      <th>4</th>\n",
              "      <td>ENTJ</td>\n",
              "      <td>'You're fired.|||That's another silly misconce...</td>\n",
              "    </tr>\n",
              "  </tbody>\n",
              "</table>\n",
              "</div>"
            ],
            "text/plain": [
              "   type                                              posts\n",
              "0  INFJ  'http://www.youtube.com/watch?v=qsXHcwe3krw|||...\n",
              "1  ENTP  'I'm finding the lack of me in these posts ver...\n",
              "2  INTP  'Good one  _____   https://www.youtube.com/wat...\n",
              "3  INTJ  'Dear INTP,   I enjoyed our conversation the o...\n",
              "4  ENTJ  'You're fired.|||That's another silly misconce..."
            ]
          },
          "metadata": {
            "tags": []
          },
          "execution_count": 4
        }
      ]
    },
    {
      "cell_type": "code",
      "metadata": {
        "trusted": true,
        "id": "0GCsv2ATBUbC",
        "colab_type": "code",
        "outputId": "42ca8f17-4fa0-4143-ac9c-f9b94a4aeb2f",
        "colab": {
          "base_uri": "https://localhost:8080/",
          "height": 204
        }
      },
      "source": [
        "test.head()"
      ],
      "execution_count": 5,
      "outputs": [
        {
          "output_type": "execute_result",
          "data": {
            "text/html": [
              "<div>\n",
              "<style scoped>\n",
              "    .dataframe tbody tr th:only-of-type {\n",
              "        vertical-align: middle;\n",
              "    }\n",
              "\n",
              "    .dataframe tbody tr th {\n",
              "        vertical-align: top;\n",
              "    }\n",
              "\n",
              "    .dataframe thead th {\n",
              "        text-align: right;\n",
              "    }\n",
              "</style>\n",
              "<table border=\"1\" class=\"dataframe\">\n",
              "  <thead>\n",
              "    <tr style=\"text-align: right;\">\n",
              "      <th></th>\n",
              "      <th>id</th>\n",
              "      <th>posts</th>\n",
              "    </tr>\n",
              "  </thead>\n",
              "  <tbody>\n",
              "    <tr>\n",
              "      <th>0</th>\n",
              "      <td>1</td>\n",
              "      <td>Musical  Linguistic Logic &amp; Naturalist (tied)|...</td>\n",
              "    </tr>\n",
              "    <tr>\n",
              "      <th>1</th>\n",
              "      <td>2</td>\n",
              "      <td>'You: hello :) Stranger: hii You: how are you ...</td>\n",
              "    </tr>\n",
              "    <tr>\n",
              "      <th>2</th>\n",
              "      <td>3</td>\n",
              "      <td>'What worked for me was knowing that limerence...</td>\n",
              "    </tr>\n",
              "    <tr>\n",
              "      <th>3</th>\n",
              "      <td>4</td>\n",
              "      <td>'Please forget about him. You should definitel...</td>\n",
              "    </tr>\n",
              "    <tr>\n",
              "      <th>4</th>\n",
              "      <td>5</td>\n",
              "      <td>'Ooh, ENTJ Celestia is actually an interesting...</td>\n",
              "    </tr>\n",
              "  </tbody>\n",
              "</table>\n",
              "</div>"
            ],
            "text/plain": [
              "   id                                              posts\n",
              "0   1  Musical  Linguistic Logic & Naturalist (tied)|...\n",
              "1   2  'You: hello :) Stranger: hii You: how are you ...\n",
              "2   3  'What worked for me was knowing that limerence...\n",
              "3   4  'Please forget about him. You should definitel...\n",
              "4   5  'Ooh, ENTJ Celestia is actually an interesting..."
            ]
          },
          "metadata": {
            "tags": []
          },
          "execution_count": 5
        }
      ]
    },
    {
      "cell_type": "markdown",
      "metadata": {
        "id": "0eOdqjGsBUbF",
        "colab_type": "text"
      },
      "source": [
        "# Text Preprocessing"
      ]
    },
    {
      "cell_type": "code",
      "metadata": {
        "trusted": true,
        "id": "qyF5Sc6zBUbG",
        "colab_type": "code",
        "colab": {}
      },
      "source": [
        "train_type = train[['type']]\n",
        "test_ID = test['id']\n",
        "# Now drop the  'Id' colums before the feature engineering process\n",
        "train.drop(['type'], axis=1, inplace=True)\n",
        "test.drop(['id'], axis=1, inplace=True)"
      ],
      "execution_count": 0,
      "outputs": []
    },
    {
      "cell_type": "code",
      "metadata": {
        "trusted": true,
        "id": "_DzS-sOGBUbI",
        "colab_type": "code",
        "outputId": "38ecd45c-9685-4396-e86f-90049c862f00",
        "colab": {
          "base_uri": "https://localhost:8080/",
          "height": 204
        }
      },
      "source": [
        "# Put all the features to gether for transformation\n",
        "post_features = pd.concat([train, test],sort=False).reset_index(drop=True)\n",
        "post_features.head()"
      ],
      "execution_count": 7,
      "outputs": [
        {
          "output_type": "execute_result",
          "data": {
            "text/html": [
              "<div>\n",
              "<style scoped>\n",
              "    .dataframe tbody tr th:only-of-type {\n",
              "        vertical-align: middle;\n",
              "    }\n",
              "\n",
              "    .dataframe tbody tr th {\n",
              "        vertical-align: top;\n",
              "    }\n",
              "\n",
              "    .dataframe thead th {\n",
              "        text-align: right;\n",
              "    }\n",
              "</style>\n",
              "<table border=\"1\" class=\"dataframe\">\n",
              "  <thead>\n",
              "    <tr style=\"text-align: right;\">\n",
              "      <th></th>\n",
              "      <th>posts</th>\n",
              "    </tr>\n",
              "  </thead>\n",
              "  <tbody>\n",
              "    <tr>\n",
              "      <th>0</th>\n",
              "      <td>'http://www.youtube.com/watch?v=qsXHcwe3krw|||...</td>\n",
              "    </tr>\n",
              "    <tr>\n",
              "      <th>1</th>\n",
              "      <td>'I'm finding the lack of me in these posts ver...</td>\n",
              "    </tr>\n",
              "    <tr>\n",
              "      <th>2</th>\n",
              "      <td>'Good one  _____   https://www.youtube.com/wat...</td>\n",
              "    </tr>\n",
              "    <tr>\n",
              "      <th>3</th>\n",
              "      <td>'Dear INTP,   I enjoyed our conversation the o...</td>\n",
              "    </tr>\n",
              "    <tr>\n",
              "      <th>4</th>\n",
              "      <td>'You're fired.|||That's another silly misconce...</td>\n",
              "    </tr>\n",
              "  </tbody>\n",
              "</table>\n",
              "</div>"
            ],
            "text/plain": [
              "                                               posts\n",
              "0  'http://www.youtube.com/watch?v=qsXHcwe3krw|||...\n",
              "1  'I'm finding the lack of me in these posts ver...\n",
              "2  'Good one  _____   https://www.youtube.com/wat...\n",
              "3  'Dear INTP,   I enjoyed our conversation the o...\n",
              "4  'You're fired.|||That's another silly misconce..."
            ]
          },
          "metadata": {
            "tags": []
          },
          "execution_count": 7
        }
      ]
    },
    {
      "cell_type": "code",
      "metadata": {
        "trusted": true,
        "id": "TcSx_37yBUbM",
        "colab_type": "code",
        "colab": {}
      },
      "source": [
        "# remove a regex pattern \n",
        "\n",
        "pattern = r'http[s]?://(?:[A-Za-z]|[0-9]|[$-_@.&+]|[!*\\(\\),]|(?:%[0-9A-Fa-f][0-9A-Fa-f]))+'\n",
        "post_features = post_features.replace(to_replace = pattern, value = '', regex = True)"
      ],
      "execution_count": 0,
      "outputs": []
    },
    {
      "cell_type": "code",
      "metadata": {
        "trusted": true,
        "id": "ceVCTlxMBUbP",
        "colab_type": "code",
        "outputId": "74804b66-86bf-417d-b98b-1b433877d641",
        "colab": {
          "base_uri": "https://localhost:8080/",
          "height": 204
        }
      },
      "source": [
        "post_features.head()"
      ],
      "execution_count": 9,
      "outputs": [
        {
          "output_type": "execute_result",
          "data": {
            "text/html": [
              "<div>\n",
              "<style scoped>\n",
              "    .dataframe tbody tr th:only-of-type {\n",
              "        vertical-align: middle;\n",
              "    }\n",
              "\n",
              "    .dataframe tbody tr th {\n",
              "        vertical-align: top;\n",
              "    }\n",
              "\n",
              "    .dataframe thead th {\n",
              "        text-align: right;\n",
              "    }\n",
              "</style>\n",
              "<table border=\"1\" class=\"dataframe\">\n",
              "  <thead>\n",
              "    <tr style=\"text-align: right;\">\n",
              "      <th></th>\n",
              "      <th>posts</th>\n",
              "    </tr>\n",
              "  </thead>\n",
              "  <tbody>\n",
              "    <tr>\n",
              "      <th>0</th>\n",
              "      <td>'||||||enfp and intj moments    sportscenter n...</td>\n",
              "    </tr>\n",
              "    <tr>\n",
              "      <th>1</th>\n",
              "      <td>'I'm finding the lack of me in these posts ver...</td>\n",
              "    </tr>\n",
              "    <tr>\n",
              "      <th>2</th>\n",
              "      <td>'Good one  _____   |||Of course, to which I sa...</td>\n",
              "    </tr>\n",
              "    <tr>\n",
              "      <th>3</th>\n",
              "      <td>'Dear INTP,   I enjoyed our conversation the o...</td>\n",
              "    </tr>\n",
              "    <tr>\n",
              "      <th>4</th>\n",
              "      <td>'You're fired.|||That's another silly misconce...</td>\n",
              "    </tr>\n",
              "  </tbody>\n",
              "</table>\n",
              "</div>"
            ],
            "text/plain": [
              "                                               posts\n",
              "0  '||||||enfp and intj moments    sportscenter n...\n",
              "1  'I'm finding the lack of me in these posts ver...\n",
              "2  'Good one  _____   |||Of course, to which I sa...\n",
              "3  'Dear INTP,   I enjoyed our conversation the o...\n",
              "4  'You're fired.|||That's another silly misconce..."
            ]
          },
          "metadata": {
            "tags": []
          },
          "execution_count": 9
        }
      ]
    },
    {
      "cell_type": "code",
      "metadata": {
        "id": "8WNfC14uCiCH",
        "colab_type": "code",
        "outputId": "5cb20bcb-2c1c-4f99-eee4-b165660e8b28",
        "colab": {
          "base_uri": "https://localhost:8080/",
          "height": 102
        }
      },
      "source": [
        "nltk.download('stopwords')\n",
        "nltk.download('wordnet')"
      ],
      "execution_count": 10,
      "outputs": [
        {
          "output_type": "stream",
          "text": [
            "[nltk_data] Downloading package stopwords to /root/nltk_data...\n",
            "[nltk_data]   Unzipping corpora/stopwords.zip.\n",
            "[nltk_data] Downloading package wordnet to /root/nltk_data...\n",
            "[nltk_data]   Unzipping corpora/wordnet.zip.\n"
          ],
          "name": "stdout"
        },
        {
          "output_type": "execute_result",
          "data": {
            "text/plain": [
              "True"
            ]
          },
          "metadata": {
            "tags": []
          },
          "execution_count": 10
        }
      ]
    },
    {
      "cell_type": "code",
      "metadata": {
        "trusted": true,
        "id": "W1cC6-dXBUbS",
        "colab_type": "code",
        "colab": {}
      },
      "source": [
        "from nltk.stem.wordnet import WordNetLemmatizer \n",
        "from nltk.stem.porter import PorterStemmer\n",
        "from nltk.corpus import stopwords\n",
        "\n",
        "lem = WordNetLemmatizer()\n",
        "# ps = PorterStemmer()\n",
        "corpus =[]\n",
        "# cleaning text\n",
        "for i in range(0,len(post_features['posts'])):\n",
        "\n",
        "    post = re.sub('[^a-zA-Z]', ' ',str(post_features.iloc[i].values)) \n",
        "    post = post.lower()\n",
        "    post = post.split()\n",
        "#   ps.stem(word)\n",
        "    stop_wrds = set(stopwords.words('english'))\n",
        "    post = [lem.lemmatize(word, \"v\") for word in post if not word in stop_wrds]\n",
        "    post = ' '.join(post)\n",
        "    corpus.append(post)\n",
        "\n",
        "post_features['posts_clean'] = corpus\n",
        "post_features.drop(['posts'], axis=1, inplace=True)              "
      ],
      "execution_count": 0,
      "outputs": []
    },
    {
      "cell_type": "code",
      "metadata": {
        "trusted": true,
        "id": "vIBnZPpIBUbW",
        "colab_type": "code",
        "outputId": "d55cd2c9-cc78-41b6-a19b-ae03928efabb",
        "colab": {
          "base_uri": "https://localhost:8080/",
          "height": 204
        }
      },
      "source": [
        "post_features.head()"
      ],
      "execution_count": 12,
      "outputs": [
        {
          "output_type": "execute_result",
          "data": {
            "text/html": [
              "<div>\n",
              "<style scoped>\n",
              "    .dataframe tbody tr th:only-of-type {\n",
              "        vertical-align: middle;\n",
              "    }\n",
              "\n",
              "    .dataframe tbody tr th {\n",
              "        vertical-align: top;\n",
              "    }\n",
              "\n",
              "    .dataframe thead th {\n",
              "        text-align: right;\n",
              "    }\n",
              "</style>\n",
              "<table border=\"1\" class=\"dataframe\">\n",
              "  <thead>\n",
              "    <tr style=\"text-align: right;\">\n",
              "      <th></th>\n",
              "      <th>posts_clean</th>\n",
              "    </tr>\n",
              "  </thead>\n",
              "  <tbody>\n",
              "    <tr>\n",
              "      <th>0</th>\n",
              "      <td>enfp intj moments sportscenter top ten play pr...</td>\n",
              "    </tr>\n",
              "    <tr>\n",
              "      <th>1</th>\n",
              "      <td>find lack post alarm sex bore position often e...</td>\n",
              "    </tr>\n",
              "    <tr>\n",
              "      <th>2</th>\n",
              "      <td>good one course say know bless curse absolutel...</td>\n",
              "    </tr>\n",
              "    <tr>\n",
              "      <th>3</th>\n",
              "      <td>dear intp enjoy conversation day esoteric gabb...</td>\n",
              "    </tr>\n",
              "    <tr>\n",
              "      <th>4</th>\n",
              "      <td>fire another silly misconception approach logi...</td>\n",
              "    </tr>\n",
              "  </tbody>\n",
              "</table>\n",
              "</div>"
            ],
            "text/plain": [
              "                                         posts_clean\n",
              "0  enfp intj moments sportscenter top ten play pr...\n",
              "1  find lack post alarm sex bore position often e...\n",
              "2  good one course say know bless curse absolutel...\n",
              "3  dear intp enjoy conversation day esoteric gabb...\n",
              "4  fire another silly misconception approach logi..."
            ]
          },
          "metadata": {
            "tags": []
          },
          "execution_count": 12
        }
      ]
    },
    {
      "cell_type": "markdown",
      "metadata": {
        "id": "_Tp4qURhBUbb",
        "colab_type": "text"
      },
      "source": [
        "# Text to Features "
      ]
    },
    {
      "cell_type": "code",
      "metadata": {
        "trusted": true,
        "id": "Mtz4hNkzBUbc",
        "colab_type": "code",
        "outputId": "fc4ebd10-8ad2-4b1c-b020-33c853bcd64a",
        "colab": {
          "base_uri": "https://localhost:8080/",
          "height": 884
        }
      },
      "source": [
        "# Statistical Features\n",
        "obj = TfidfVectorizer()\n",
        "post_final_features = obj.fit_transform(post_features['posts_clean'])\n",
        "print(post_final_features[0])\n",
        "\n",
        "# obj = CountVectorizer()\n",
        "# post_final_features = obj.fit_transform(post_features['posts_clean']).toarray()\n",
        "# print(post_final_features[0:5])"
      ],
      "execution_count": 13,
      "outputs": [
        {
          "output_type": "stream",
          "text": [
            "  (0, 51321)\t0.022971753095914153\n",
            "  (0, 71096)\t0.01986360970350271\n",
            "  (0, 4062)\t0.047274026208539495\n",
            "  (0, 18316)\t0.09498645008638615\n",
            "  (0, 82020)\t0.01596645415910647\n",
            "  (0, 14567)\t0.053867316511501555\n",
            "  (0, 47093)\t0.06500552884892956\n",
            "  (0, 54808)\t0.07320038515485536\n",
            "  (0, 25468)\t0.06060195869391936\n",
            "  (0, 7586)\t0.027894891259623238\n",
            "  (0, 58435)\t0.04538429404512145\n",
            "  (0, 7408)\t0.021206654335971402\n",
            "  (0, 69879)\t0.029399599740099487\n",
            "  (0, 1498)\t0.027917308013944236\n",
            "  (0, 84642)\t0.02183200436723868\n",
            "  (0, 70189)\t0.028175502555248942\n",
            "  (0, 60135)\t0.043232650308424714\n",
            "  (0, 25455)\t0.041018094693615934\n",
            "  (0, 1400)\t0.032429904556302395\n",
            "  (0, 49908)\t0.02854634446563593\n",
            "  (0, 65751)\t0.024802541253978988\n",
            "  (0, 53456)\t0.027598014612381074\n",
            "  (0, 1600)\t0.06274183478703248\n",
            "  (0, 84762)\t0.04596298373355101\n",
            "  (0, 71609)\t0.06592524469693782\n",
            "  :\t:\n",
            "  (0, 51400)\t0.03262506371186185\n",
            "  (0, 72390)\t0.059059136897429226\n",
            "  (0, 14036)\t0.052354713799169145\n",
            "  (0, 25335)\t0.04572854782274967\n",
            "  (0, 58495)\t0.018764384974481362\n",
            "  (0, 28081)\t0.02166090418678154\n",
            "  (0, 36771)\t0.04997885393987149\n",
            "  (0, 75262)\t0.03556275752131702\n",
            "  (0, 42301)\t0.0234383362843762\n",
            "  (0, 35913)\t0.07658606437511628\n",
            "  (0, 56253)\t0.042918421694953975\n",
            "  (0, 46343)\t0.023506315864052846\n",
            "  (0, 76070)\t0.061192863843636494\n",
            "  (0, 62818)\t0.050631727887752\n",
            "  (0, 24895)\t0.0463331937731379\n",
            "  (0, 11888)\t0.024140706803010257\n",
            "  (0, 43189)\t0.05283584004496594\n",
            "  (0, 58755)\t0.07922924452132284\n",
            "  (0, 57639)\t0.024436294657550595\n",
            "  (0, 74405)\t0.05486923548695687\n",
            "  (0, 76334)\t0.03804386414017427\n",
            "  (0, 70577)\t0.12763065735440554\n",
            "  (0, 48832)\t0.04901769219657975\n",
            "  (0, 37796)\t0.04894217121764348\n",
            "  (0, 23077)\t0.05489093289085178\n"
          ],
          "name": "stdout"
        }
      ]
    },
    {
      "cell_type": "code",
      "metadata": {
        "trusted": true,
        "id": "48MWcgGVBUbh",
        "colab_type": "code",
        "outputId": "e348da1a-2d91-424a-c7c0-eabe14c24dd3",
        "colab": {
          "base_uri": "https://localhost:8080/",
          "height": 119
        }
      },
      "source": [
        "# create our target variables\n",
        "pd.options.mode.chained_assignment = None\n",
        "\n",
        "train_type['I-E'] = train_type['type'].astype(str).str[0]\n",
        "train_type['I-E'] = train_type['I-E'].map({\"I\": 0, \"E\": 1})\n",
        "train_type['S-N'] = train_type['type'].astype(str).str[1]\n",
        "train_type['S-N'] = train_type['S-N'].map({\"S\": 0, \"N\": 1})\n",
        "train_type['F-T'] = train_type['type'].astype(str).str[2]\n",
        "train_type['F-T'] = train_type['F-T'].map({\"F\": 0, \"T\": 1})\n",
        "train_type['P-J'] = train_type['type'].astype(str).str[3]\n",
        "train_type['P-J'] = train_type['P-J'].map({\"P\": 0, \"J\": 1})\n",
        "train_type.drop('type', axis=1, inplace=True) \n",
        "y = train_type\n",
        "print(y[0:5])"
      ],
      "execution_count": 14,
      "outputs": [
        {
          "output_type": "stream",
          "text": [
            "   I-E  S-N  F-T  P-J\n",
            "0    0    1    0    1\n",
            "1    1    1    1    0\n",
            "2    0    1    1    0\n",
            "3    0    1    1    1\n",
            "4    1    1    1    1\n"
          ],
          "name": "stdout"
        }
      ]
    },
    {
      "cell_type": "code",
      "metadata": {
        "trusted": true,
        "id": "6lT1HuLMBUbj",
        "colab_type": "code",
        "outputId": "9398b53a-8e46-4dba-aa4b-a23c2bf6f469",
        "colab": {
          "base_uri": "https://localhost:8080/",
          "height": 102
        }
      },
      "source": [
        "\n",
        "y = np.array(y)\n",
        "print(y[0:5])"
      ],
      "execution_count": 15,
      "outputs": [
        {
          "output_type": "stream",
          "text": [
            "[[0 1 0 1]\n",
            " [1 1 1 0]\n",
            " [0 1 1 0]\n",
            " [0 1 1 1]\n",
            " [1 1 1 1]]\n"
          ],
          "name": "stdout"
        }
      ]
    },
    {
      "cell_type": "code",
      "metadata": {
        "trusted": true,
        "id": "HZ6SS63JBUbm",
        "colab_type": "code",
        "outputId": "737eb2b1-4223-41f7-a049-0f09a0add8db",
        "colab": {
          "base_uri": "https://localhost:8080/",
          "height": 51
        }
      },
      "source": [
        "# Spliting the data back to train(X,y) and test(X_sub)\n",
        "X = post_final_features[:len(y), :]\n",
        "X_test = post_final_features[len(y):, :]\n",
        "print('Features size for train(X,y) and test(X_test):')\n",
        "print('X', X.shape, 'y', y.shape, 'X_test', X_test.shape)"
      ],
      "execution_count": 16,
      "outputs": [
        {
          "output_type": "stream",
          "text": [
            "Features size for train(X,y) and test(X_test):\n",
            "X (6506, 85722) y (6506, 4) X_test (2169, 85722)\n"
          ],
          "name": "stdout"
        }
      ]
    },
    {
      "cell_type": "markdown",
      "metadata": {
        "id": "bIDs54VZBUbp",
        "colab_type": "text"
      },
      "source": [
        "# Text Classification"
      ]
    },
    {
      "cell_type": "code",
      "metadata": {
        "trusted": true,
        "id": "hdEIzv_qBUbq",
        "colab_type": "code",
        "colab": {}
      },
      "source": [
        "# from sklearn.naive_bayes import MultinomialNB\n",
        "# model = OneVsRestClassifier(MultinomialNB())"
      ],
      "execution_count": 0,
      "outputs": []
    },
    {
      "cell_type": "code",
      "metadata": {
        "trusted": true,
        "id": "lEbgc5ogBUbs",
        "colab_type": "code",
        "colab": {}
      },
      "source": [
        "model = OneVsRestClassifier(LogisticRegressionCV(Cs=30,l1_ratios=[1],penalty='elasticnet', solver = 'saga',multi_class = 'multinomial', cv=10), n_jobs =-1)"
      ],
      "execution_count": 0,
      "outputs": []
    },
    {
      "cell_type": "code",
      "metadata": {
        "trusted": true,
        "id": "aOAPULteBUbu",
        "colab_type": "code",
        "colab": {}
      },
      "source": [
        "model.fit(X, y)"
      ],
      "execution_count": 0,
      "outputs": []
    },
    {
      "cell_type": "code",
      "metadata": {
        "trusted": true,
        "id": "7JU1rmuaBUbx",
        "colab_type": "code",
        "colab": {}
      },
      "source": [
        "y_predicted = np.round(np.floor(model.predict_proba(X_test)),2)"
      ],
      "execution_count": 0,
      "outputs": []
    },
    {
      "cell_type": "code",
      "metadata": {
        "trusted": true,
        "id": "dZlZyKkZBUbz",
        "colab_type": "code",
        "colab": {}
      },
      "source": [
        "y_predicted[0:5]"
      ],
      "execution_count": 0,
      "outputs": []
    },
    {
      "cell_type": "markdown",
      "metadata": {
        "id": "3iYI72vWBUb4",
        "colab_type": "text"
      },
      "source": [
        "# Submission"
      ]
    },
    {
      "cell_type": "code",
      "metadata": {
        "trusted": true,
        "id": "TGq7Ej-RBUb5",
        "colab_type": "code",
        "colab": {}
      },
      "source": [
        "submission = pd.DataFrame({'id' : np.array(test_ID),'mind' : y_predicted[:,0], \n",
        "                           'energy' : y_predicted[:,1], 'nature' : y_predicted[:,2], \n",
        "                           'tactics' : y_predicted[:,3]})\n",
        "print('Save submission')"
      ],
      "execution_count": 0,
      "outputs": []
    },
    {
      "cell_type": "code",
      "metadata": {
        "trusted": true,
        "id": "7nC2P1UfBUcA",
        "colab_type": "code",
        "colab": {}
      },
      "source": [
        "\n",
        "submission.to_csv(\"gdrive/My Drive/Colab Notebooks/Kaggle/new_submission.csv\", index=False)\n",
        "submission.head()"
      ],
      "execution_count": 0,
      "outputs": []
    }
  ]
}